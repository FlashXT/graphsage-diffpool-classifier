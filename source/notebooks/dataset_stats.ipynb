{
 "cells": [
  {
   "cell_type": "code",
   "execution_count": 1,
   "metadata": {},
   "outputs": [],
   "source": [
    "import argparse\n",
    "\n",
    "import torch\n",
    "import torch.nn as nn\n",
    "import matplotlib.pyplot as plt\n",
    "from torch.nn import functional as F\n",
    "from torchvision.utils import make_grid\n",
    "from torchvision.utils import save_image\n",
    "\n",
    "import os\n",
    "\n",
    "import pickle\n",
    "from collections import Counter\n",
    "import numpy as np"
   ]
  },
  {
   "cell_type": "code",
   "execution_count": 2,
   "metadata": {},
   "outputs": [],
   "source": [
    "ds_name = '../../data/collab.graph'\n",
    "# dataset = '../data/mutag.graph'"
   ]
  },
  {
   "cell_type": "code",
   "execution_count": 3,
   "metadata": {},
   "outputs": [],
   "source": [
    "def load_data(ds_name):\n",
    "    f = open(ds_name, \"rb\")\n",
    "    print(\"Found dataset:\", ds_name)\n",
    "    data = pickle.load(f, encoding=\"latin1\")\n",
    "    graph_data = data[\"graph\"]\n",
    "    labels = data[\"labels\"]\n",
    "    labels  = np.array(labels, dtype = np.float)\n",
    "    return graph_data, labels"
   ]
  },
  {
   "cell_type": "code",
   "execution_count": 4,
   "metadata": {},
   "outputs": [
    {
     "name": "stdout",
     "output_type": "stream",
     "text": [
      "Found dataset: ../../data/collab.graph\n"
     ]
    }
   ],
   "source": [
    "graphs, labels = load_data(ds_name)"
   ]
  },
  {
   "cell_type": "code",
   "execution_count": 5,
   "metadata": {},
   "outputs": [
    {
     "name": "stdout",
     "output_type": "stream",
     "text": [
      "Dataset: ../../data/collab.graph \n",
      "Length: 5000 \n",
      "Label distribution: Counter({1.0: 2600, 3.0: 1625, 2.0: 775})\n",
      "\n",
      "Mean #nodes: 74.4948 \n",
      "Median #nodes: 52.0 \n",
      "Max #nodes: 492 \n",
      "Min #nodes: 32\n",
      "\n",
      "Mean #edges: 65.9777460977142 \n",
      "Median #edges: 36.0 \n",
      "Max #edges: 491 \n",
      "Min #edges: 1\n"
     ]
    }
   ],
   "source": [
    "print (\"Dataset: %s \\nLength: %s \\nLabel distribution: %s\"%(ds_name, len(graphs), Counter(labels)))\n",
    "avg_edges = []\n",
    "avg_nodes = []\n",
    "for gidxs, nodes in graphs.items():\n",
    "    for n in nodes:\n",
    "        avg_edges.append(len(nodes[n]['neighbors']))\n",
    "    avg_nodes.append(len(nodes))\n",
    "print (\"\\nMean #nodes: %s \\nMedian #nodes: %s \\nMax #nodes: %s \\nMin #nodes: %s\"%(np.mean(avg_nodes), np.median(avg_nodes), max(avg_nodes), min(avg_nodes)))\n",
    "print (\"\\nMean #edges: %s \\nMedian #edges: %s \\nMax #edges: %s \\nMin #edges: %s\"%(np.mean(avg_edges), np.median(avg_edges), max(avg_edges), min(avg_edges)))\n"
   ]
  },
  {
   "cell_type": "code",
   "execution_count": 6,
   "metadata": {},
   "outputs": [],
   "source": [
    "graph = graphs[5]"
   ]
  },
  {
   "cell_type": "code",
   "execution_count": 7,
   "metadata": {},
   "outputs": [
    {
     "name": "stdout",
     "output_type": "stream",
     "text": [
      "Example of Graph keys:\n",
      " dict_keys([0, 1, 2, 3, 4, 5, 6, 7, 8, 9, 10, 11, 12, 13, 14, 15, 16, 17, 18, 19, 20, 21, 22, 23, 24, 25, 26, 27, 28, 29, 30, 31, 32, 33, 34, 35, 36, 37, 38])\n"
     ]
    }
   ],
   "source": [
    "nodes = graph.keys()\n",
    "print(\"Example of Graph keys:\\n\", nodes)"
   ]
  },
  {
   "cell_type": "code",
   "execution_count": 8,
   "metadata": {},
   "outputs": [
    {
     "name": "stdout",
     "output_type": "stream",
     "text": [
      "Example of Node:\n",
      " {'neighbors': [3, 19, 21, 23, 26], 'label': ''}\n"
     ]
    }
   ],
   "source": [
    "node = graph[0]\n",
    "print(\"Example of Node:\\n\",node)"
   ]
  },
  {
   "cell_type": "code",
   "execution_count": 9,
   "metadata": {},
   "outputs": [],
   "source": [
    "# This graphs are unlabeled!!!\n",
    "#\n",
    "# for graph_id, graph in graphs.items():\n",
    "#     for node_id, node in graph.items():\n",
    "#         print(node['label'], end=\"\")"
   ]
  },
  {
   "cell_type": "code",
   "execution_count": null,
   "metadata": {},
   "outputs": [],
   "source": []
  }
 ],
 "metadata": {
  "kernelspec": {
   "display_name": "Python 3",
   "language": "python",
   "name": "python3"
  },
  "language_info": {
   "codemirror_mode": {
    "name": "ipython",
    "version": 3
   },
   "file_extension": ".py",
   "mimetype": "text/x-python",
   "name": "python",
   "nbconvert_exporter": "python",
   "pygments_lexer": "ipython3",
   "version": "3.6.4"
  }
 },
 "nbformat": 4,
 "nbformat_minor": 2
}
