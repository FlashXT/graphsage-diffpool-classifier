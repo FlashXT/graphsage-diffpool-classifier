{
 "cells": [
  {
   "cell_type": "code",
   "execution_count": 1,
   "metadata": {},
   "outputs": [],
   "source": [
    "import argparse\n",
    "\n",
    "import torch\n",
    "import torch.nn as nn\n",
    "import matplotlib.pyplot as plt\n",
    "from torch.nn import functional as F\n",
    "from torchvision.utils import make_grid\n",
    "from torchvision.utils import save_image\n",
    "\n",
    "import os\n",
    "\n",
    "import pickle\n",
    "from collections import Counter\n",
    "import numpy as np"
   ]
  },
  {
   "cell_type": "code",
   "execution_count": 2,
   "metadata": {},
   "outputs": [],
   "source": [
    "# ds_name = '../../data/collab.graph'   # Without node features\n",
    "ds_name = '../../data/mutag.graph'   # With node features"
   ]
  },
  {
   "cell_type": "code",
   "execution_count": 3,
   "metadata": {},
   "outputs": [],
   "source": [
    "def load_data(ds_name):\n",
    "    f = open(ds_name, \"rb\")\n",
    "    print(\"Found dataset:\", ds_name)\n",
    "    data = pickle.load(f, encoding=\"latin1\")\n",
    "    graph_data = data[\"graph\"]\n",
    "    labels = data[\"labels\"]\n",
    "    labels  = np.array(labels, dtype = np.float)\n",
    "    return graph_data, labels"
   ]
  },
  {
   "cell_type": "code",
   "execution_count": 4,
   "metadata": {},
   "outputs": [
    {
     "name": "stdout",
     "output_type": "stream",
     "text": [
      "Found dataset: ../../data/mutag.graph\n"
     ]
    }
   ],
   "source": [
    "graphs, labels = load_data(ds_name)"
   ]
  },
  {
   "cell_type": "code",
   "execution_count": 5,
   "metadata": {},
   "outputs": [
    {
     "name": "stdout",
     "output_type": "stream",
     "text": [
      "Dataset: ../../data/mutag.graph \n",
      "Number of Graphs: 188 \n",
      "Label distribution: Counter({1.0: 125, -1.0: 63})\n",
      "\n",
      "Mean #nodes: 17.930851063829788 \n",
      "Median #nodes: 17.5 \n",
      "Max #nodes: 28 \n",
      "Min #nodes: 10 \n",
      "Total #nodes: 3371\n",
      "\n",
      "Mean #edges: 2.2076535152773658 \n",
      "Median #edges: 2.0 \n",
      "Max #edges: 4 \n",
      "Min #edges: 1 \n",
      "Total #edges: 7442\n",
      "\n",
      "Mean #features_len: 1.0 \n",
      "Median #features_len: 1.0 \n",
      "Max #features_len: 1 \n",
      "Min #features_len: 1 \n",
      "Total #features_len: 3371\n",
      "\n",
      "Number of nodes with features: 3371\n",
      "Features distribution: Counter({(3,): 2395, (7,): 593, (6,): 345, (2,): 23, (4,): 12, (1,): 2, (5,): 1})\n"
     ]
    }
   ],
   "source": [
    "print (\"Dataset: %s \\nNumber of Graphs: %s \\nLabel distribution: %s\"%(ds_name, len(graphs), Counter(labels)))\n",
    "avg_edges = []\n",
    "avg_nodes = []\n",
    "n_features = 0\n",
    "avg_features = []\n",
    "features = []\n",
    "for gidxs, nodes in graphs.items():\n",
    "    for n in nodes:\n",
    "        avg_edges.append(len(nodes[n]['neighbors']))\n",
    "        if nodes[n]['label'] != '':\n",
    "            n_features += 1\n",
    "            avg_features.append(len(nodes[n]['label']))\n",
    "            features.append(nodes[n]['label'])\n",
    "        else:\n",
    "            avg_features.append(0)\n",
    "            features.append(None)\n",
    "    avg_nodes.append(len(nodes))\n",
    "print(\"\\nMean #nodes: %s \\nMedian #nodes: %s \\nMax #nodes: %s \\nMin #nodes: %s \\nTotal #nodes: %s\"%(np.mean(avg_nodes), np.median(avg_nodes), max(avg_nodes), min(avg_nodes), sum(avg_nodes)))\n",
    "print(\"\\nMean #edges: %s \\nMedian #edges: %s \\nMax #edges: %s \\nMin #edges: %s \\nTotal #edges: %s\"%(np.mean(avg_edges), np.median(avg_edges), max(avg_edges), min(avg_edges), sum(avg_edges)))\n",
    "print(\"\\nMean #features_len: %s \\nMedian #features_len: %s \\nMax #features_len: %s \\nMin #features_len: %s \\nTotal #features_len: %s\"%(np.mean(avg_features), np.median(avg_features), max(avg_features), min(avg_features), sum(avg_features)))\n",
    "print(\"\\nNumber of nodes with features: %s\"%(n_features))\n",
    "print(\"Features distribution: %s\"%(Counter(features)))"
   ]
  },
  {
   "cell_type": "code",
   "execution_count": 6,
   "metadata": {},
   "outputs": [
    {
     "name": "stdout",
     "output_type": "stream",
     "text": [
      "Example of Graph keys (e.g. node_ids):\n",
      " dict_keys([0, 1, 2, 3, 4, 5, 6, 7, 8, 9, 10, 11, 12, 13, 14, 15, 16, 17, 18, 19])\n"
     ]
    }
   ],
   "source": [
    "graph = graphs[5]\n",
    "nodes = graph.keys()\n",
    "print(\"Example of Graph keys (e.g. node_ids):\\n\", nodes)"
   ]
  },
  {
   "cell_type": "code",
   "execution_count": 7,
   "metadata": {},
   "outputs": [
    {
     "name": "stdout",
     "output_type": "stream",
     "text": [
      "Example of Node:\n",
      " {'neighbors': array([ 1, 13], dtype=uint8), 'label': (3,)}\n"
     ]
    }
   ],
   "source": [
    "node = graph[0]\n",
    "print(\"Example of Node:\\n\",node)"
   ]
  }
 ],
 "metadata": {
  "kernelspec": {
   "display_name": "Python 3",
   "language": "python",
   "name": "python3"
  },
  "language_info": {
   "codemirror_mode": {
    "name": "ipython",
    "version": 3
   },
   "file_extension": ".py",
   "mimetype": "text/x-python",
   "name": "python",
   "nbconvert_exporter": "python",
   "pygments_lexer": "ipython3",
   "version": "3.6.4"
  }
 },
 "nbformat": 4,
 "nbformat_minor": 2
}
